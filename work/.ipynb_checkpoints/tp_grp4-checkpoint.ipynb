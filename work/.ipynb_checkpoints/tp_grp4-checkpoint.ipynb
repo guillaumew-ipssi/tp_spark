{
 "cells": [
  {
   "cell_type": "code",
   "execution_count": null,
   "metadata": {},
   "outputs": [],
   "source": [
    "#Import dépendances\n",
    "from pyspark.sql import SparkSession\n",
    "spark = SparkSession.builder.getOrCreate()\n",
    "\n",
    "import numpy as np\n",
    "import matplotlib.pyplot as plt\n",
    "\n",
    "import numpy as np"
   ]
  },
  {
   "cell_type": "code",
   "execution_count": null,
   "metadata": {},
   "outputs": [],
   "source": [
    "#Chargement du fichier\n",
    "path = \"./data/vehicles/vehicles_min.csv\"\n",
    "df = spark.read.format('csv').options(header=True).load(path)\n",
    "df.count()\n"
   ]
  },
  {
   "cell_type": "code",
   "execution_count": null,
   "metadata": {},
   "outputs": [],
   "source": [
    "#Tentative de split d'un gros fichier en plusieurs fichiers\n",
    "\n",
    "#Chargement du fichier\n",
    "#path = \"./data/vehicles/vehicles\"\n",
    "#df = spark.read.format('csv').options(header=True).load(path)\n",
    "#df.count()\n",
    "\n",
    "#On récupère 20% du dataFrame initial\n",
    "#df_sample = df.sample(0.2)\n",
    "\n",
    "#Sur le DF récupéré, on le partionne en 50 partitions\n",
    "#df_aftercut = df_sample.coalesce(50)\n",
    "\n",
    "#On écrit un fichier .csv pour chaque partition\n",
    "#df_aftercut.write.format(\"csv\").option(\"header\", \"true\").save(\"./data/vehicles/vehicles_cut/\")\n",
    "\n",
    "#Nouveau path avec le DF partitionné\n",
    "#path_cut = \"./data/vehicles/vehicles_cut/*.csv\"\n",
    "#df_cut = spark.read.format('csv').options(header=True).load(path_cut)\n",
    "#df_cut.printSchema()"
   ]
  },
  {
   "cell_type": "code",
   "execution_count": null,
   "metadata": {},
   "outputs": [],
   "source": [
    "# |||\n",
    "# VERSION FICHIER 5000 LIGNES\n",
    "# ||| "
   ]
  },
  {
   "cell_type": "code",
   "execution_count": 13,
   "metadata": {},
   "outputs": [
    {
     "name": "stdout",
     "output_type": "stream",
     "text": [
      "root\n",
      " |-- _c0: string (nullable = true)\n",
      " |-- id: string (nullable = true)\n",
      " |-- region: string (nullable = true)\n",
      " |-- price: string (nullable = true)\n",
      " |-- year: string (nullable = true)\n",
      " |-- manufacturer: string (nullable = true)\n",
      " |-- model: string (nullable = true)\n",
      " |-- condition: string (nullable = true)\n",
      " |-- cylinders: string (nullable = true)\n",
      " |-- fuel: string (nullable = true)\n",
      " |-- odometer: string (nullable = true)\n",
      " |-- title_status: string (nullable = true)\n",
      " |-- transmission: string (nullable = true)\n",
      " |-- VIN: string (nullable = true)\n",
      " |-- drive: string (nullable = true)\n",
      " |-- size: string (nullable = true)\n",
      " |-- type: string (nullable = true)\n",
      " |-- paint_color: string (nullable = true)\n",
      " |-- state: string (nullable = true)\n",
      " |-- lat: string (nullable = true)\n",
      " |-- long: string (nullable = true)\n",
      " |-- posting_date: string (nullable = true)\n",
      "\n"
     ]
    }
   ],
   "source": [
    "df.count()\n",
    "df.head()\n",
    "df.printSchema()\n"
   ]
  },
  {
   "cell_type": "code",
   "execution_count": null,
   "metadata": {},
   "outputs": [],
   "source": [
    "# Les champs contenant des liens polluants la data\n",
    "cases = df.select('url','region_url','image_url')\n",
    "cases.show()\n"
   ]
  },
  {
   "cell_type": "code",
   "execution_count": null,
   "metadata": {},
   "outputs": [],
   "source": [
    "# Suppression de certains champs inutiles\n",
    "df = df.drop('url')\n",
    "df = df.drop('region_url') \n",
    "df = df.drop('image_url')\n",
    "df = df.drop('description')"
   ]
  },
  {
   "cell_type": "code",
   "execution_count": null,
   "metadata": {},
   "outputs": [],
   "source": [
    "df.head()"
   ]
  },
  {
   "cell_type": "code",
   "execution_count": 30,
   "metadata": {},
   "outputs": [
    {
     "name": "stdout",
     "output_type": "stream",
     "text": [
      "+--------------------+-------------+\n",
      "|              region|count(region)|\n",
      "+--------------------+-------------+\n",
      "|huntsville / decatur|         1373|\n",
      "|florence / muscle...|          115|\n",
      "|              mobile|         1011|\n",
      "|          montgomery|          137|\n",
      "|              dothan|          330|\n",
      "|          birmingham|         2072|\n",
      "|    gadsden-anniston|          206|\n",
      "|              auburn|           88|\n",
      "+--------------------+-------------+\n",
      "\n"
     ]
    },
    {
     "data": {
      "image/png": "[encoded data removed]",
      "text/plain": [
       "<Figure size 432x288 with 1 Axes>"
      ]
     },
     "metadata": {},
     "output_type": "display_data"
    }
   ],
   "source": [
    "#Présentation de la data\n",
    "\n",
    "#Répartition des voitures en fonction des régions, avec représentation graphique\n",
    "df_region_name = df.select(\"region\").distinct().collect()\n",
    "df_region_values = df.groupBy(\"region\").agg({\"region\":\"count\"}).withColumnRenamed(\"COUNT(region)\", \"nb\")\n",
    "\n",
    "arr_region_name = np.array(df_region_name)\n",
    "arr_region_values = df_region_values.select(\"nb\").collect()\n",
    "\n",
    "values_matplot = np.array(arr_region_values)\n",
    "values_matplot = values_matplot.flatten()\n",
    "plt.pie(values_matplot, labels = arr_region_name, normalize = True)\n",
    "plt.legend(values_matplot, title=\"Region\", loc=\"center left\", bbox_to_anchor=(2, 0, 0.5, 1))\n",
    "\n",
    "df.groupBy(\"region\").agg({\"region\": \"count\"}).show()"
   ]
  },
  {
   "cell_type": "code",
   "execution_count": 56,
   "metadata": {},
   "outputs": [
    {
     "name": "stdout",
     "output_type": "stream",
     "text": [
      "+--------+-----------+\n",
      "|    fuel|count(fuel)|\n",
      "+--------+-----------+\n",
      "|     gas|       4760|\n",
      "|    null|          0|\n",
      "|   other|         73|\n",
      "|  diesel|        373|\n",
      "|  hybrid|         47|\n",
      "|electric|         20|\n",
      "+--------+-----------+\n",
      "\n"
     ]
    },
    {
     "data": {
      "image/png": "[encoded data removed]",
      "text/plain": [
       "<Figure size 432x288 with 1 Axes>"
      ]
     },
     "metadata": {
      "needs_background": "light"
     },
     "output_type": "display_data"
    }
   ],
   "source": [
    "#Repartition des voitures en fonction du carburant, avec représentation graphique\n",
    "df_fuel_name = df.select(\"fuel\").distinct().na.fill('Undefined').collect()\n",
    "df_fuel_values = df.groupBy(\"fuel\").agg({\"fuel\":\"count\"}).withColumnRenamed(\"COUNT(fuel)\", \"nb\")\n",
    "\n",
    "arr_fuel_name = np.array(df_fuel_name)\n",
    "arr_fuel_values = df_fuel_values.select(\"nb\").collect()\n",
    "\n",
    "values_matplot = np.array(arr_fuel_values)\n",
    "values_matplot = values_matplot.flatten()\n",
    "\n",
    "plt.bar(arr_fuel_name.flatten(), values_matplot, width= 2, align='center')\n",
    "\n",
    "df.groupBy(\"fuel\").agg({\"fuel\": \"count\"}).show()"
   ]
  },
  {
   "cell_type": "code",
   "execution_count": null,
   "metadata": {},
   "outputs": [],
   "source": []
  }
 ],
 "metadata": {
  "kernelspec": {
   "display_name": "Python 3",
   "language": "python",
   "name": "python3"
  },
  "language_info": {
   "codemirror_mode": {
    "name": "ipython",
    "version": 3
   },
   "file_extension": ".py",
   "mimetype": "text/x-python",
   "name": "python",
   "nbconvert_exporter": "python",
   "pygments_lexer": "ipython3",
   "version": "3.8.6"
  }
 },
 "nbformat": 4,
 "nbformat_minor": 2
}
