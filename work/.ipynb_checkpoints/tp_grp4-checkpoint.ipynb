{
 "cells": [
  {
   "cell_type": "code",
   "execution_count": 1,
   "metadata": {},
   "outputs": [],
   "source": [
    "#Import dépendances\n",
    "from pyspark.sql import SparkSession\n",
    "spark = SparkSession.builder.getOrCreate()"
   ]
  },
  {
   "cell_type": "code",
   "execution_count": 2,
   "metadata": {},
   "outputs": [
    {
     "data": {
      "text/plain": [
       "475057"
      ]
     },
     "execution_count": 2,
     "metadata": {},
     "output_type": "execute_result"
    }
   ],
   "source": [
    "#Chargement du fichier\n",
    "path = \"./data/vehicles/vehicles.csv\"\n",
    "df = spark.read.format('csv').options(header=True).load(path)\n",
    "df.count()\n"
   ]
  },
  {
   "cell_type": "code",
   "execution_count": 3,
   "metadata": {},
   "outputs": [],
   "source": [
    "#On récupère 20% du dataFrame initial\n",
    "#df_sample = df.sample(0.2)\n",
    "\n",
    "#Sur le DF récupéré, on le partionne en 50 partitions\n",
    "#df_aftercut = df_sample.repartition(50)\n",
    "\n",
    "#On écrit un fichier .csv pour chaque partition\n",
    "#df_aftercut.write.format(\"csv\").option(\"header\", \"true\").save(\"./data/vehicles/vehicles_cut/\")"
   ]
  },
  {
   "cell_type": "code",
   "execution_count": 5,
   "metadata": {},
   "outputs": [
    {
     "name": "stdout",
     "output_type": "stream",
     "text": [
      "94959\n"
     ]
    }
   ],
   "source": [
    "#Nouveau path avec le DF partitionné\n",
    "path_cut = \"./data/vehicles/vehicles_cut/*.csv\"\n",
    "df_cut = spark.read.format('csv').options(header=True).load(path_cut)\n",
    "print(df_cut.count())\n"
   ]
  },
  {
   "cell_type": "code",
   "execution_count": null,
   "metadata": {},
   "outputs": [],
   "source": []
  }
 ],
 "metadata": {
  "kernelspec": {
   "display_name": "Python 3",
   "language": "python",
   "name": "python3"
  },
  "language_info": {
   "codemirror_mode": {
    "name": "ipython",
    "version": 3
   },
   "file_extension": ".py",
   "mimetype": "text/x-python",
   "name": "python",
   "nbconvert_exporter": "python",
   "pygments_lexer": "ipython3",
   "version": "3.8.6"
  }
 },
 "nbformat": 4,
 "nbformat_minor": 2
}
