{
 "cells": [
  {
   "cell_type": "code",
   "execution_count": 88,
   "metadata": {},
   "outputs": [],
   "source": [
    "#Import dépendances\n",
    "from pyspark.sql import SparkSession\n",
    "from pyspark.sql import functions as F\n",
    "from pyspark.sql.types import DoubleType\n",
    "spark = SparkSession.builder.getOrCreate()\n",
    "\n",
    "import numpy as np\n",
    "import matplotlib.pyplot as plt\n",
    "\n",
    "import numpy as np"
   ]
  },
  {
   "cell_type": "code",
   "execution_count": null,
   "metadata": {},
   "outputs": [],
   "source": [
    "pip install kaggle"
   ]
  },
  {
   "cell_type": "code",
   "execution_count": 174,
   "metadata": {},
   "outputs": [
    {
     "name": "stdout",
     "output_type": "stream",
     "text": [
      "Warning: Your Kaggle API key is readable by other users on this system! To fix this, you can run 'chmod 600 /home/jovyan/.kaggle/kaggle.json'\n"
     ]
    }
   ],
   "source": [
    "import kaggle\n",
    "import zipfile\n",
    "\n",
    "from kaggle.api.kaggle_api_extended import KaggleApi\n",
    "api = KaggleApi()\n",
    "api.authenticate()\n",
    "\n",
    "api.dataset_download_files('austinreese/craigslist-carstrucks-data', path='./data/vehicles/')\n",
    "\n",
    "with zipfile.ZipFile('./data/vehicles/craigslist-carstrucks-data.zip', 'r') as zipref:\n",
    "    zipref.extractall('./data/vehicles/')"
   ]
  },
  {
   "cell_type": "code",
   "execution_count": 123,
   "metadata": {},
   "outputs": [
    {
     "data": {
      "text/plain": [
       "475057"
      ]
     },
     "execution_count": 123,
     "metadata": {},
     "output_type": "execute_result"
    }
   ],
   "source": [
    "#Chargement du fichier\n",
    "#path = \"./data/vehicles/vehicles_min.csv\"\n",
    "path = \"./data/vehicles/vehicles.csv\"\n",
    "df = spark.read.format('csv').options(header=True).load(path)\n",
    "df.count()\n"
   ]
  },
  {
   "cell_type": "code",
   "execution_count": null,
   "metadata": {},
   "outputs": [],
   "source": [
    "#Tentative de split d'un gros fichier en plusieurs fichiers\n",
    "\n",
    "#Chargement du fichier\n",
    "#path = \"./data/vehicles/vehicles\"\n",
    "#df = spark.read.format('csv').options(header=True).load(path)\n",
    "#df.count()\n",
    "\n",
    "#On récupère 20% du dataFrame initial\n",
    "#df_sample = df.sample(0.2)\n",
    "\n",
    "#Sur le DF récupéré, on le partionne en 50 partitions\n",
    "#df_aftercut = df_sample.coalesce(50)\n",
    "\n",
    "#On écrit un fichier .csv pour chaque partition\n",
    "#df_aftercut.write.format(\"csv\").option(\"header\", \"true\").save(\"./data/vehicles/vehicles_cut/\")\n",
    "\n",
    "#Nouveau path avec le DF partitionné\n",
    "#path_cut = \"./data/vehicles/vehicles_cut/*.csv\"\n",
    "#df_cut = spark.read.format('csv').options(header=True).load(path_cut)\n",
    "#df_cut.printSchema()"
   ]
  },
  {
   "cell_type": "code",
   "execution_count": null,
   "metadata": {},
   "outputs": [],
   "source": [
    "# |||\n",
    "# VERSION FICHIER 5000 LIGNES\n",
    "# ||| "
   ]
  },
  {
   "cell_type": "code",
   "execution_count": 124,
   "metadata": {},
   "outputs": [
    {
     "name": "stdout",
     "output_type": "stream",
     "text": [
      "root\n",
      " |-- _c0: string (nullable = true)\n",
      " |-- id: string (nullable = true)\n",
      " |-- url: string (nullable = true)\n",
      " |-- region: string (nullable = true)\n",
      " |-- region_url: string (nullable = true)\n",
      " |-- price: string (nullable = true)\n",
      " |-- year: string (nullable = true)\n",
      " |-- manufacturer: string (nullable = true)\n",
      " |-- model: string (nullable = true)\n",
      " |-- condition: string (nullable = true)\n",
      " |-- cylinders: string (nullable = true)\n",
      " |-- fuel: string (nullable = true)\n",
      " |-- odometer: string (nullable = true)\n",
      " |-- title_status: string (nullable = true)\n",
      " |-- transmission: string (nullable = true)\n",
      " |-- VIN: string (nullable = true)\n",
      " |-- drive: string (nullable = true)\n",
      " |-- size: string (nullable = true)\n",
      " |-- type: string (nullable = true)\n",
      " |-- paint_color: string (nullable = true)\n",
      " |-- image_url: string (nullable = true)\n",
      " |-- description: string (nullable = true)\n",
      " |-- state: string (nullable = true)\n",
      " |-- lat: string (nullable = true)\n",
      " |-- long: string (nullable = true)\n",
      " |-- posting_date: string (nullable = true)\n",
      "\n"
     ]
    }
   ],
   "source": [
    "df.count()\n",
    "df.head()\n",
    "df.printSchema()\n"
   ]
  },
  {
   "cell_type": "code",
   "execution_count": 125,
   "metadata": {},
   "outputs": [
    {
     "name": "stdout",
     "output_type": "stream",
     "text": [
      "+--------------------+--------------------+--------------------+\n",
      "|                 url|          region_url|           image_url|\n",
      "+--------------------+--------------------+--------------------+\n",
      "|https://auburn.cr...|https://auburn.cr...|https://images.cr...|\n",
      "|https://auburn.cr...|https://auburn.cr...|https://images.cr...|\n",
      "|https://auburn.cr...|https://auburn.cr...|https://images.cr...|\n",
      "|https://auburn.cr...|https://auburn.cr...|https://images.cr...|\n",
      "|https://auburn.cr...|https://auburn.cr...|https://images.cr...|\n",
      "|https://auburn.cr...|https://auburn.cr...|https://images.cr...|\n",
      "|https://auburn.cr...|https://auburn.cr...|https://images.cr...|\n",
      "|https://auburn.cr...|https://auburn.cr...|https://images.cr...|\n",
      "|https://auburn.cr...|https://auburn.cr...|https://images.cr...|\n",
      "|https://auburn.cr...|https://auburn.cr...|https://images.cr...|\n",
      "|https://auburn.cr...|https://auburn.cr...|https://images.cr...|\n",
      "|https://auburn.cr...|https://auburn.cr...|https://images.cr...|\n",
      "|https://auburn.cr...|https://auburn.cr...|https://images.cr...|\n",
      "|https://auburn.cr...|https://auburn.cr...|https://images.cr...|\n",
      "|https://auburn.cr...|https://auburn.cr...|https://images.cr...|\n",
      "|https://auburn.cr...|https://auburn.cr...|https://images.cr...|\n",
      "|https://auburn.cr...|https://auburn.cr...|https://images.cr...|\n",
      "|https://auburn.cr...|https://auburn.cr...|https://images.cr...|\n",
      "|https://auburn.cr...|https://auburn.cr...|https://images.cr...|\n",
      "|https://auburn.cr...|https://auburn.cr...|https://images.cr...|\n",
      "+--------------------+--------------------+--------------------+\n",
      "only showing top 20 rows\n",
      "\n"
     ]
    }
   ],
   "source": [
    "# Les champs contenant des liens polluants la data\n",
    "cases = df.select('url','region_url','image_url')\n",
    "cases.show()\n"
   ]
  },
  {
   "cell_type": "code",
   "execution_count": 126,
   "metadata": {},
   "outputs": [],
   "source": [
    "# Suppression de certains champs inutiles\n",
    "df = df.drop('url')\n",
    "df = df.drop('region_url') \n",
    "df = df.drop('image_url')\n",
    "df = df.drop('description')"
   ]
  },
  {
   "cell_type": "code",
   "execution_count": 127,
   "metadata": {},
   "outputs": [
    {
     "data": {
      "text/plain": [
       "Row(_c0='0', id='7240372487', region='auburn', price='35990', year='2010.0', manufacturer='chevrolet', model='corvette grand sport', condition='good', cylinders='8 cylinders', fuel='gas', odometer='32742.0', title_status='clean', transmission='other', VIN='1G1YU3DW1A5106980', drive='rwd', size=None, type='other', paint_color=None, state='al', lat='32.59', long='-85.48', posting_date='2020-12-02T08:11:30-0600')"
      ]
     },
     "execution_count": 127,
     "metadata": {},
     "output_type": "execute_result"
    }
   ],
   "source": [
    "df.head()"
   ]
  },
  {
   "cell_type": "code",
   "execution_count": 131,
   "metadata": {},
   "outputs": [
    {
     "name": "stdout",
     "output_type": "stream",
     "text": [
      "+--------------------+-------------+\n",
      "|              region|count(region)|\n",
      "+--------------------+-------------+\n",
      "|huntsville / decatur|         1373|\n",
      "|florence / muscle...|          115|\n",
      "|              mobile|         1011|\n",
      "|          montgomery|          137|\n",
      "|              dothan|          330|\n",
      "|          birmingham|         2072|\n",
      "|    gadsden-anniston|          206|\n",
      "|              auburn|           88|\n",
      "+--------------------+-------------+\n",
      "\n"
     ]
    },
    {
     "data": {
      "image/png": "[encoded data removed]",
      "text/plain": [
       "<Figure size 432x288 with 1 Axes>"
      ]
     },
     "metadata": {},
     "output_type": "display_data"
    }
   ],
   "source": [
    "#Présentation de la data\n",
    "\n",
    "path = \"./data/vehicles/vehicles_min.csv\"\n",
    "#path = \"./data/vehicles/vehicles.csv\"\n",
    "df = spark.read.format('csv').options(header=True).load(path)\n",
    "\n",
    "#Répartition des voitures en fonction des régions, avec représentation graphique\n",
    "df_region_name = df.select(\"region\").distinct().collect()\n",
    "df_region_values = df.groupBy(\"region\").agg({\"region\":\"count\"}).withColumnRenamed(\"COUNT(region)\", \"nb\")\n",
    "\n",
    "arr_region_name = np.array(df_region_name)\n",
    "arr_region_values = df_region_values.select(\"nb\").collect()\n",
    "\n",
    "values_matplot = np.array(arr_region_values)\n",
    "values_matplot = values_matplot.flatten()\n",
    "plt.pie(values_matplot, labels = arr_region_name, normalize = True)\n",
    "plt.legend(values_matplot, title=\"Region\", loc=\"center left\", bbox_to_anchor=(2, 0, 0.5, 1))\n",
    "\n",
    "df.groupBy(\"region\").agg({\"region\": \"count\"}).show()"
   ]
  },
  {
   "cell_type": "code",
   "execution_count": 132,
   "metadata": {},
   "outputs": [
    {
     "name": "stdout",
     "output_type": "stream",
     "text": [
      "+--------+-----------+\n",
      "|    fuel|count(fuel)|\n",
      "+--------+-----------+\n",
      "|     gas|       4760|\n",
      "|   other|         73|\n",
      "|  diesel|        373|\n",
      "|  hybrid|         47|\n",
      "|electric|         20|\n",
      "+--------+-----------+\n",
      "\n"
     ]
    },
    {
     "data": {
      "image/png": "[encoded data removed]",
      "text/plain": [
       "<Figure size 432x288 with 1 Axes>"
      ]
     },
     "metadata": {
      "needs_background": "light"
     },
     "output_type": "display_data"
    }
   ],
   "source": [
    "path = \"./data/vehicles/vehicles_min.csv\"\n",
    "#path = \"./data/vehicles/vehicles.csv\"\n",
    "df = spark.read.format('csv').options(header=True).load(path)\n",
    "\n",
    "#Repartition des voitures en fonction du carburant, avec représentation graphique\n",
    "df_fuel_name = df.select(\"fuel\").distinct().na.fill('Undefined').collect()\n",
    "df_fuel_values = df.groupBy(\"fuel\").agg({\"fuel\":\"count\"}).withColumnRenamed(\"COUNT(fuel)\", \"nb\")\n",
    "\n",
    "arr_fuel_name = np.array(df_fuel_name)\n",
    "arr_fuel_values = df_fuel_values.select(\"nb\").collect()\n",
    "\n",
    "values_matplot = np.array(arr_fuel_values)\n",
    "values_matplot = values_matplot.flatten()\n",
    "\n",
    "\n",
    "plt.bar(arr_fuel_name.flatten(), values_matplot, width= 2, align='center')\n",
    "\n",
    "df.groupBy(\"fuel\").agg({\"fuel\": \"count\"}).where(F.col(\"fuel\").isNotNull()).show()"
   ]
  },
  {
   "cell_type": "code",
   "execution_count": 133,
   "metadata": {},
   "outputs": [
    {
     "name": "stdout",
     "output_type": "stream",
     "text": [
      "+-----------+-----------+\n",
      "|       type|count(type)|\n",
      "+-----------+-----------+\n",
      "|        van|        126|\n",
      "|   mini-van|         57|\n",
      "|    offroad|         11|\n",
      "|      wagon|         54|\n",
      "|       null|          0|\n",
      "|      coupe|        237|\n",
      "|        bus|         25|\n",
      "|        SUV|        903|\n",
      "|      other|        162|\n",
      "|convertible|         87|\n",
      "|      sedan|        857|\n",
      "|  hatchback|        101|\n",
      "|      truck|        485|\n",
      "|     pickup|        449|\n",
      "+-----------+-----------+\n",
      "\n"
     ]
    },
    {
     "data": {
      "image/png": "[encoded data removed]",
      "text/plain": [
       "<Figure size 432x288 with 1 Axes>"
      ]
     },
     "metadata": {},
     "output_type": "display_data"
    }
   ],
   "source": [
    "path = \"./data/vehicles/vehicles_min.csv\"\n",
    "#path = \"./data/vehicles/vehicles.csv\"\n",
    "df = spark.read.format('csv').options(header=True).load(path)\n",
    "\n",
    "#Répartition des voitures en fonction des types de véhicule, avec représentation graphique\n",
    "df_type_name = df.select(\"type\").distinct().collect()\n",
    "df_type_values = df.groupBy(\"type\").agg({\"type\":\"count\"}).withColumnRenamed(\"COUNT(type)\", \"nb\")\n",
    "\n",
    "arr_type_name = np.array(df_type_name)\n",
    "arr_type_values = df_type_values.select(\"nb\").collect()\n",
    "\n",
    "values_matplot = np.array(arr_type_values)\n",
    "values_matplot = values_matplot.flatten()\n",
    "plt.pie(values_matplot, labels = arr_type_name, normalize = True)\n",
    "plt.legend(values_matplot, title=\"Region\", loc=\"center left\", bbox_to_anchor=(2, 0, 0.5, 1))\n",
    "\n",
    "df.groupBy(\"type\").agg({\"type\": \"count\"}).show()"
   ]
  },
  {
   "cell_type": "code",
   "execution_count": 173,
   "metadata": {},
   "outputs": [
    {
     "data": {
      "text/plain": [
       "[<matplotlib.lines.Line2D at 0x7f75d8a24ac0>]"
      ]
     },
     "execution_count": 173,
     "metadata": {},
     "output_type": "execute_result"
    },
    {
     "data": {
      "image/png": "[encoded data removed]",
      "text/plain": [
       "<Figure size 432x288 with 1 Axes>"
      ]
     },
     "metadata": {
      "needs_background": "light"
     },
     "output_type": "display_data"
    }
   ],
   "source": [
    "path = \"./data/vehicles/vehicles_min.csv\"\n",
    "#path = \"./data/vehicles/vehicles.csv\"\n",
    "df = spark.read.format('csv').options(header=True).load(path)\n",
    "df = df.dropna()\n",
    "\n",
    "df = df.filter(df[\"year\"] > \"2013.0\")\n",
    "\n",
    "df_avg = df.groupBy(\"year\").agg({\"price\":\"mean\"}).withColumnRenamed(\"COUNT(year)\", \"year\")\n",
    "df_price = df_avg.select(\"avg(price)\").collect()\n",
    "df_year = df_avg.select(\"year\").collect()\n",
    "\n",
    "arr_price = np.array(df_price) \n",
    "arr_year = np.array(df_year)\n",
    "\n",
    "plt.plot(arr_year.flatten(), arr_price.flatten())"
   ]
  },
  {
   "cell_type": "code",
   "execution_count": null,
   "metadata": {},
   "outputs": [],
   "source": []
  }
 ],
 "metadata": {
  "kernelspec": {
   "display_name": "Python 3",
   "language": "python",
   "name": "python3"
  },
  "language_info": {
   "codemirror_mode": {
    "name": "ipython",
    "version": 3
   },
   "file_extension": ".py",
   "mimetype": "text/x-python",
   "name": "python",
   "nbconvert_exporter": "python",
   "pygments_lexer": "ipython3",
   "version": "3.8.6"
  }
 },
 "nbformat": 4,
 "nbformat_minor": 2
}
